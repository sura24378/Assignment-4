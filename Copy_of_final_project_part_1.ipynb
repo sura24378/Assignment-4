{
  "nbformat": 4,
  "nbformat_minor": 0,
  "metadata": {
    "colab": {
      "provenance": [],
      "authorship_tag": "ABX9TyP1nH837lXJlqwlxHdUMpes",
      "include_colab_link": true
    },
    "kernelspec": {
      "name": "python3",
      "display_name": "Python 3"
    },
    "language_info": {
      "name": "python"
    }
  },
  "cells": [
    {
      "cell_type": "markdown",
      "metadata": {
        "id": "view-in-github",
        "colab_type": "text"
      },
      "source": [
        "<a href=\"https://colab.research.google.com/github/sura24378/Assignment-4/blob/main/Copy_of_final_project_part_1.ipynb\" target=\"_parent\"><img src=\"https://colab.research.google.com/assets/colab-badge.svg\" alt=\"Open In Colab\"/></a>"
      ]
    },
    {
      "cell_type": "markdown",
      "source": [
        "Data Collection"
      ],
      "metadata": {
        "id": "UJ9JIVSINZA-"
      }
    },
    {
      "cell_type": "markdown",
      "source": [
        "Part 2 of the project"
      ],
      "metadata": {
        "id": "5B8-94l-Z-Ia"
      }
    },
    {
      "cell_type": "markdown",
      "source": [
        "Load Data"
      ],
      "metadata": {
        "id": "lr5zLorpYBCh"
      }
    },
    {
      "cell_type": "code",
      "source": [],
      "metadata": {
        "id": "taEVTW_paBv2"
      },
      "execution_count": 3,
      "outputs": []
    },
    {
      "cell_type": "code",
      "source": [
        "import pandas as pd\n",
        "import numpy as np\n",
        "\n",
        "# Load raw datasets\n",
        "stocks = pd.read_csv('historical_stocks[1].csv')\n",
        "prices = pd.read_csv('historical_stock_prices[1].csv')\n",
        "\n",
        "# Convert date column\n",
        "prices['date'] = pd.to_datetime(prices['date'])\n",
        "prices.set_index('date', inplace=True)\n"
      ],
      "metadata": {
        "id": "No5RziZPYFSW"
      },
      "execution_count": 31,
      "outputs": []
    },
    {
      "cell_type": "markdown",
      "source": [
        " Advanced Data Cleaning"
      ],
      "metadata": {
        "id": "DzAVRCNxYl5I"
      }
    },
    {
      "cell_type": "code",
      "source": [
        "import os\n",
        "print(os.listdir())  # Shows all files in the current directory\n"
      ],
      "metadata": {
        "colab": {
          "base_uri": "https://localhost:8080/",
          "height": 0
        },
        "id": "ZAs-zoHmv5dU",
        "outputId": "6bd4f3c6-a796-4545-f038-35f73927f513"
      },
      "execution_count": 18,
      "outputs": [
        {
          "output_type": "stream",
          "name": "stdout",
          "text": [
            "['.config', 'historical_stocks[1].csv', 'historical_stock_prices[1].csv', 'sample_data']\n"
          ]
        }
      ]
    },
    {
      "cell_type": "code",
      "source": [
        "import pandas as pd\n",
        "\n",
        "# Load stock prices dataset (make sure the file exists in your working directory)\n",
        "prices = pd.read_csv('historical_stock_prices[1].csv')\n",
        "\n",
        "# Show first few rows to verify it's loaded correctly\n",
        "print(prices.head())\n",
        "\n",
        "# Convert 'date' column to datetime and set as index\n",
        "prices['date'] = pd.to_datetime(prices['date'])\n",
        "prices.set_index('date', inplace=True)\n",
        "\n"
      ],
      "metadata": {
        "colab": {
          "base_uri": "https://localhost:8080/",
          "height": 0
        },
        "id": "m_bv3YS6YprI",
        "outputId": "1e3c5956-f47c-477f-885f-d9f8e3d8b932"
      },
      "execution_count": 20,
      "outputs": [
        {
          "output_type": "stream",
          "name": "stdout",
          "text": [
            "  ticker   open  close  adj_close    low   high     volume        date\n",
            "0    AHH  11.50  11.58   8.493155  11.25  11.68  4633900.0  2013-05-08\n",
            "1    AHH  11.66  11.55   8.471151  11.50  11.66   275800.0  2013-05-09\n",
            "2    AHH  11.55  11.60   8.507822  11.50  11.60   277100.0  2013-05-10\n",
            "3    AHH  11.63  11.65   8.544494  11.55  11.65   147400.0  2013-05-13\n",
            "4    AHH  11.60  11.53   8.456484  11.50  11.60   184100.0  2013-05-14\n"
          ]
        }
      ]
    },
    {
      "cell_type": "markdown",
      "source": [
        "Detect & Resolve Outliers"
      ],
      "metadata": {
        "id": "Sv7bpcqwYumx"
      }
    },
    {
      "cell_type": "code",
      "source": [
        "# Interpolate missing numeric values\n",
        "prices.interpolate(method='linear', inplace=True)\n",
        "\n",
        "# Fill remaining missing values\n",
        "prices.fillna(method='ffill', inplace=True)\n",
        "prices.fillna(method='bfill', inplace=True)\n"
      ],
      "metadata": {
        "colab": {
          "base_uri": "https://localhost:8080/",
          "height": 0
        },
        "id": "PPwIC2y9wd9g",
        "outputId": "ab18ab9f-cab2-4554-97a3-f8a0564db4af"
      },
      "execution_count": 21,
      "outputs": [
        {
          "output_type": "stream",
          "name": "stderr",
          "text": [
            "/tmp/ipython-input-21-2496547360.py:2: FutureWarning: DataFrame.interpolate with object dtype is deprecated and will raise in a future version. Call obj.infer_objects(copy=False) before interpolating instead.\n",
            "  prices.interpolate(method='linear', inplace=True)\n",
            "/tmp/ipython-input-21-2496547360.py:5: FutureWarning: DataFrame.fillna with 'method' is deprecated and will raise in a future version. Use obj.ffill() or obj.bfill() instead.\n",
            "  prices.fillna(method='ffill', inplace=True)\n",
            "/tmp/ipython-input-21-2496547360.py:6: FutureWarning: DataFrame.fillna with 'method' is deprecated and will raise in a future version. Use obj.ffill() or obj.bfill() instead.\n",
            "  prices.fillna(method='bfill', inplace=True)\n"
          ]
        }
      ]
    },
    {
      "cell_type": "code",
      "source": [
        "from scipy.stats import zscore\n",
        "\n",
        "# Define columns for outlier detection\n",
        "outlier_cols = ['open', 'high', 'low', 'close', 'volume']\n",
        "\n",
        "# Calculate Z-scores\n",
        "z_scores = prices[outlier_cols].apply(zscore)\n",
        "\n",
        "# Define outliers as Z > 4 (very extreme values)\n",
        "outliers = (np.abs(z_scores) > 4)\n",
        "\n",
        "# Cap outliers at 1st and 99th percentiles\n",
        "for col in outlier_cols:\n",
        "    lower, upper = prices[col].quantile([0.01, 0.99])\n",
        "    prices[col] = np.clip(prices[col], lower, upper)\n"
      ],
      "metadata": {
        "id": "JbgotdibYw5b"
      },
      "execution_count": 22,
      "outputs": []
    },
    {
      "cell_type": "markdown",
      "source": [
        "Error Detection & Correction"
      ],
      "metadata": {
        "id": "CDLAk0CAY1Qb"
      }
    },
    {
      "cell_type": "code",
      "source": [
        "# Remove invalid price entries (e.g., negative prices or volume)\n",
        "for col in ['open', 'high', 'low', 'close', 'volume']:\n",
        "    prices = prices[prices[col] >= 0]\n",
        "\n",
        "# Ensure logical consistency: low <= close <= high\n",
        "prices = prices[(prices['low'] <= prices['close']) & (prices['close'] <= prices['high'])]\n"
      ],
      "metadata": {
        "id": "OcL1fQijY2jG"
      },
      "execution_count": 23,
      "outputs": []
    },
    {
      "cell_type": "markdown",
      "source": [
        "Data Transformation"
      ],
      "metadata": {
        "id": "Ik-sHJnGY6n1"
      }
    },
    {
      "cell_type": "code",
      "source": [
        "# Rolling features\n",
        "prices['rolling_close_7'] = prices['close'].rolling(window=7).mean()\n",
        "prices['volatility_7'] = prices['close'].rolling(window=7).std()\n",
        "\n",
        "# Technical indicator: price momentum (7-day difference)\n",
        "prices['momentum_7'] = prices['close'].diff(7)\n"
      ],
      "metadata": {
        "id": "NbPdqBzvY8J1"
      },
      "execution_count": 24,
      "outputs": []
    },
    {
      "cell_type": "markdown",
      "source": [
        "Standardization"
      ],
      "metadata": {
        "id": "8Y6ubJyNY-5o"
      }
    },
    {
      "cell_type": "code",
      "source": [
        "from sklearn.preprocessing import StandardScaler\n",
        "\n",
        "scaler = StandardScaler()\n",
        "scaled_cols = ['open', 'high', 'low', 'close', 'volume', 'rolling_close_7', 'volatility_7', 'momentum_7']\n",
        "prices[scaled_cols] = scaler.fit_transform(prices[scaled_cols])\n"
      ],
      "metadata": {
        "id": "euPSY2TgZAxW"
      },
      "execution_count": 25,
      "outputs": []
    },
    {
      "cell_type": "markdown",
      "source": [
        "Encoding Categorical Variables"
      ],
      "metadata": {
        "id": "lZYelJMvZE2u"
      }
    },
    {
      "cell_type": "code",
      "source": [
        "# Merge sector information\n",
        "data = prices.reset_index().merge(stocks, on='ticker', how='left')\n",
        "\n",
        "# One-hot encode 'sector'\n",
        "data = pd.get_dummies(data, columns=['sector'], drop_first=True)\n"
      ],
      "metadata": {
        "id": "reiZJfAfZF7r"
      },
      "execution_count": 26,
      "outputs": []
    },
    {
      "cell_type": "markdown",
      "source": [
        "Integration and Modeling Preparation"
      ],
      "metadata": {
        "id": "A7mRAPwMZKXk"
      }
    },
    {
      "cell_type": "code",
      "source": [
        "# Drop rows with any missing engineered features\n",
        "data.dropna(inplace=True)\n",
        "\n",
        "# Re-index\n",
        "data.set_index('date', inplace=True)\n"
      ],
      "metadata": {
        "id": "vF-5cRQiZMCW"
      },
      "execution_count": 27,
      "outputs": []
    },
    {
      "cell_type": "markdown",
      "source": [
        " Train/Validation/Test Split"
      ],
      "metadata": {
        "id": "Oa35-dE_ZQe6"
      }
    },
    {
      "cell_type": "code",
      "source": [
        "from sklearn.model_selection import train_test_split\n",
        "\n",
        "# Example: predict close price (as label)\n",
        "X = data.drop(['close'], axis=1)\n",
        "y = data['close']\n",
        "\n",
        "# Split into train (70%), val (15%), test (15%)\n",
        "X_train, X_temp, y_train, y_temp = train_test_split(X, y, test_size=0.30, shuffle=False)\n",
        "X_val, X_test, y_val, y_test = train_test_split(X_temp, y_temp, test_size=0.50, shuffle=False)\n"
      ],
      "metadata": {
        "id": "_jquOoubZTKS"
      },
      "execution_count": 28,
      "outputs": []
    },
    {
      "cell_type": "markdown",
      "source": [
        "\n",
        " Save Cleaned Data"
      ],
      "metadata": {
        "id": "4Aj68DGoZW56"
      }
    },
    {
      "cell_type": "code",
      "source": [
        "X_train.to_csv('X_train.csv')\n",
        "X_val.to_csv('X_val.csv')\n",
        "X_test.to_csv('X_test.csv')\n",
        "y_train.to_csv('y_train.csv')\n",
        "y_val.to_csv('y_val.csv')\n",
        "y_test.to_csv('y_test.csv')\n"
      ],
      "metadata": {
        "id": "yGPlcoklZbVH"
      },
      "execution_count": 29,
      "outputs": []
    },
    {
      "cell_type": "markdown",
      "source": [
        "Data Cleaning & Transformation Summary\n",
        "Missing Values: Imputed using linear interpolation and forward/backward filling to preserve time-series continuity.\n",
        "\n",
        "Outliers: Identified using Z-scores; capped to the 1st and 99th percentiles to mitigate extreme influence without full removal.\n",
        "\n",
        "Error Corrections: Removed rows with invalid price logic (e.g., negative values or inconsistent open/high/low/close structure).\n",
        "\n",
        "Feature Engineering: Introduced rolling averages, volatility (standard deviation), and price momentum features.\n",
        "\n",
        "Standardization: Numerical features standardized using z-score normalization.\n",
        "\n",
        "Categorical Encoding: Applied one-hot encoding to sector data for model compatibility.\n",
        "\n",
        "Splitting: Data divided into training (70%), validation (15%), and test (15%) sets chronologically.\n",
        "\n",
        "Output: Cleaned and split datasets saved as CSV files for downstream modeling."
      ],
      "metadata": {
        "id": "0Nab9mI6Z5bM"
      }
    },
    {
      "cell_type": "code",
      "metadata": {
        "id": "d11c4fa7"
      },
      "source": [
        "import pandas as pd\n",
        "import numpy as np\n",
        "\n",
        "# Load raw datasets\n",
        "stocks = pd.read_csv('historical_stocks[1].csv')\n",
        "prices = pd.read_csv('historical_stock_prices[1].csv')\n",
        "\n",
        "# Convert date column\n",
        "prices['date'] = pd.to_datetime(prices['date'])\n",
        "prices.set_index('date', inplace=True)"
      ],
      "execution_count": 30,
      "outputs": []
    }
  ]
}